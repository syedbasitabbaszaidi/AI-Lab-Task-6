{
 "cells": [
  {
   "cell_type": "markdown",
   "id": "64dc753f",
   "metadata": {},
   "source": [
    "# BFS With Queue and Node"
   ]
  },
  {
   "cell_type": "code",
   "execution_count": 8,
   "id": "20f3a0b9",
   "metadata": {},
   "outputs": [
    {
     "name": "stdout",
     "output_type": "stream",
     "text": [
      "A B C D E F G "
     ]
    }
   ],
   "source": [
    "tree = {\n",
    "    'A' : ['B', 'C'],\n",
    "    'B' : ['D', 'E'],\n",
    "    'C' : ['F', 'G'],\n",
    "    'D' : [],\n",
    "    'E' : [],\n",
    "    'F' : [],\n",
    "    'G' : []\n",
    "}\n",
    "visited = []\n",
    "queue = []\n",
    "def bfs(node):\n",
    "    visited.append(node)\n",
    "    queue.append(node)\n",
    "    while queue:\n",
    "        m = queue.pop(0)\n",
    "        print(m,end = \" \")\n",
    "        for i in tree[m]:\n",
    "            if i not in visited:\n",
    "                visited.append(i)\n",
    "                queue.append(i)\n",
    "bfs(\"A\")"
   ]
  },
  {
   "cell_type": "markdown",
   "id": "4a674151",
   "metadata": {},
   "source": [
    "# BFS Without Queue"
   ]
  },
  {
   "cell_type": "code",
   "execution_count": 3,
   "id": "f212cb00",
   "metadata": {},
   "outputs": [
    {
     "name": "stdout",
     "output_type": "stream",
     "text": [
      "A B C D E F G "
     ]
    }
   ],
   "source": [
    "tree = {\n",
    "    'A' : ['B', 'C'],\n",
    "    'B' : ['D', 'E'],\n",
    "    'C' : ['F', 'G'],\n",
    "    'D' : [],\n",
    "    'E' : [],\n",
    "    'F' : [],\n",
    "    'G' : []\n",
    "}\n",
    "visited = []\n",
    "def bfs(current_level):\n",
    "    if not current_level:\n",
    "        return\n",
    "    next_level = []  \n",
    "    for node in current_level:\n",
    "        if node not in visited:\n",
    "            visited.append(node)\n",
    "            print(node, end=\" \")\n",
    "            for neighbor in tree[node]:\n",
    "                if neighbor not in visited:\n",
    "                    next_level.append(neighbor)\n",
    "    bfs(next_level)\n",
    "current_level = [\"A\"]\n",
    "bfs(current_level)"
   ]
  },
  {
   "cell_type": "code",
   "execution_count": null,
   "id": "95bc6535",
   "metadata": {},
   "outputs": [],
   "source": []
  }
 ],
 "metadata": {
  "kernelspec": {
   "display_name": "Python 3 (ipykernel)",
   "language": "python",
   "name": "python3"
  },
  "language_info": {
   "codemirror_mode": {
    "name": "ipython",
    "version": 3
   },
   "file_extension": ".py",
   "mimetype": "text/x-python",
   "name": "python",
   "nbconvert_exporter": "python",
   "pygments_lexer": "ipython3",
   "version": "3.11.5"
  }
 },
 "nbformat": 4,
 "nbformat_minor": 5
}
